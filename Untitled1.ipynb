{
  "cells": [
    {
      "cell_type": "markdown",
      "metadata": {
        "id": "view-in-github",
        "colab_type": "text"
      },
      "source": [
        "<a href=\"https://colab.research.google.com/github/Biki4180/BharatIntern/blob/main/Untitled1.ipynb\" target=\"_parent\"><img src=\"https://colab.research.google.com/assets/colab-badge.svg\" alt=\"Open In Colab\"/></a>"
      ]
    },
    {
      "cell_type": "code",
      "execution_count": null,
      "metadata": {
        "colab": {
          "base_uri": "https://localhost:8080/"
        },
        "id": "_m_e2jdcXxu3",
        "outputId": "e742a2ce-c659-4345-93e2-06c2fff72294"
      },
      "outputs": [
        {
          "name": "stdout",
          "output_type": "stream",
          "text": [
            "false\n"
          ]
        }
      ],
      "source": [
        "Str1=(\"Hello\")\n",
        "if \"m\" in Str1:\n",
        "  print(\"True\")\n",
        "else:\n",
        "  print(\"false\")\n"
      ]
    },
    {
      "cell_type": "code",
      "execution_count": null,
      "metadata": {
        "colab": {
          "base_uri": "https://localhost:8080/"
        },
        "id": "1TEllNvNfN4o",
        "outputId": "cc845db3-b8a0-484b-ecf0-ba282ee13988"
      },
      "outputs": [
        {
          "name": "stdout",
          "output_type": "stream",
          "text": [
            "0b1010\n",
            "0b1000\n",
            "0b1000 8\n",
            "0b1010 10\n",
            "0b10 2\n"
          ]
        }
      ],
      "source": [
        "x=10\n",
        "y=8\n",
        "print(bin(x))\n",
        "print(bin(y))\n",
        "print(bin(x&y),x&y)\n",
        "print(bin(x|y),(x|y))\n",
        "print(bin(x^y),x^y)"
      ]
    },
    {
      "cell_type": "code",
      "execution_count": null,
      "metadata": {
        "id": "nLh4l0H4wZOI"
      },
      "outputs": [],
      "source": []
    },
    {
      "cell_type": "code",
      "execution_count": null,
      "metadata": {
        "colab": {
          "base_uri": "https://localhost:8080/"
        },
        "id": "o60HHRxejLaw",
        "outputId": "98369652-1761-4d00-b048-279dfc7c8e65"
      },
      "outputs": [
        {
          "name": "stdout",
          "output_type": "stream",
          "text": [
            "Hello@ <class 'str'>\n",
            "haefhhk <class 'str'>\n"
          ]
        }
      ],
      "source": [
        "a='Hello@'\n",
        "print(a,(type(a)))\n",
        "b=\"haefhhk\"\n",
        "print(b,(type(b)))"
      ]
    },
    {
      "cell_type": "code",
      "execution_count": null,
      "metadata": {
        "colab": {
          "base_uri": "https://localhost:8080/"
        },
        "id": "vqCuTjdnqIxs",
        "outputId": "45710e6c-de80-4d61-e886-71d198454005"
      },
      "outputs": [
        {
          "name": "stdout",
          "output_type": "stream",
          "text": [
            "[10, 'Bikram', 5.5]\n"
          ]
        }
      ],
      "source": [
        "#list,Tuple\n",
        "l=[10,'bikram',5.5]\n",
        "l[1]='B'+l[1][1:]\n",
        "print(l)"
      ]
    },
    {
      "cell_type": "code",
      "execution_count": null,
      "metadata": {
        "colab": {
          "base_uri": "https://localhost:8080/"
        },
        "id": "fmh0oKHpLDnb",
        "outputId": "5bd296b2-39d3-42d6-a4ba-1d9c796b0497"
      },
      "outputs": [
        {
          "name": "stdout",
          "output_type": "stream",
          "text": [
            "Enter your Marks15\n",
            "Fail\n"
          ]
        }
      ],
      "source": [
        "num=float(input(\"Enter your Marks\"))\n",
        "if num>=60:\n",
        "  print(\"First Division\")\n",
        "elif num>=48:\n",
        "  print(\"Second Division\")\n",
        "elif num>=30:\n",
        "  print(\"Third Division\")\n",
        "else:\n",
        "  print(\"Fail\")"
      ]
    },
    {
      "cell_type": "code",
      "execution_count": null,
      "metadata": {
        "colab": {
          "base_uri": "https://localhost:8080/"
        },
        "id": "oT2p2N2AiqCj",
        "outputId": "bc0df2c8-1b87-4fc7-fd7b-df6ccce77b51"
      },
      "outputs": [
        {
          "name": "stdout",
          "output_type": "stream",
          "text": [
            "0\n",
            "1\n",
            "2\n",
            "3\n",
            "4\n",
            "\n",
            "1\n",
            "2\n",
            "3\n",
            "4\n",
            "5\n",
            "\n",
            "5\n",
            "7\n",
            "9\n",
            "11\n",
            "13\n",
            "15\n",
            "17\n",
            "19\n",
            "21\n",
            "23\n",
            "25\n",
            "27\n",
            "29\n",
            "31\n",
            "33\n",
            "35\n",
            "37\n",
            "39\n",
            "41\n",
            "43\n",
            "45\n",
            "47\n",
            "49\n",
            "\n",
            "10\n",
            "9\n",
            "8\n",
            "7\n",
            "6\n",
            "5\n",
            "4\n",
            "3\n",
            "2\n",
            "1\n",
            "0\n",
            "2* 1 = 2\n",
            "2* 2 = 4\n",
            "2* 3 = 6\n",
            "2* 4 = 8\n",
            "2* 5 = 10\n",
            "2* 6 = 12\n",
            "2* 7 = 14\n",
            "2* 8 = 16\n",
            "2* 9 = 18\n",
            "2* 10 = 20\n"
          ]
        }
      ],
      "source": [
        "#Range\n",
        "for n in range(5):\n",
        "  print(n)\n",
        "print()\n",
        "for n in range(1,6):\n",
        "  print(n)\n",
        "print()\n",
        "for n in range(5,51,2):\n",
        "  print(n)\n",
        "print()\n",
        "for n in range(10,-1,-1):\n",
        "  print(n)\n",
        "\n",
        "for n in range(1,11):\n",
        "  print(\"2*\",n,\"=\",2*n)"
      ]
    },
    {
      "cell_type": "code",
      "execution_count": null,
      "metadata": {
        "colab": {
          "base_uri": "https://localhost:8080/"
        },
        "id": "ISoUj-OgwfBI",
        "outputId": "7593d9c5-8472-4163-8e0e-d3315cd15e90"
      },
      "outputs": [
        {
          "name": "stdout",
          "output_type": "stream",
          "text": [
            "Enter Textmum\n",
            "mum is paligndrom\n"
          ]
        }
      ],
      "source": [
        "#palingdrom number\n",
        "n=str(input(\"Enter Text\"))\n",
        "if n == n[-1::-1]:\n",
        "  print(n, \"is paligndrom\")\n",
        "else:\n",
        "  print(n, \"is not a palingdrom number\")"
      ]
    },
    {
      "cell_type": "code",
      "execution_count": null,
      "metadata": {
        "colab": {
          "base_uri": "https://localhost:8080/"
        },
        "id": "cEVorEZp7pG7",
        "outputId": "d68a22fb-49f7-42e5-9ea1-062f660b3ee5"
      },
      "outputs": [
        {
          "name": "stdout",
          "output_type": "stream",
          "text": [
            "1\n"
          ]
        }
      ],
      "source": [
        "d=\"Bikram123\"\n",
        "x = d.isalnum()\n",
        "print(x)\n",
        "\n",
        "#number is Positive or nagative\n",
        "a=int(input(\"enter a number\"))\n",
        "if a <= 0:\n",
        "  print(\"number is nagative\")\n",
        "else:\n",
        "  print(\"number is positive\")\n"
      ]
    },
    {
      "cell_type": "code",
      "execution_count": null,
      "metadata": {
        "colab": {
          "base_uri": "https://localhost:8080/"
        },
        "id": "LEmfwRToERjL",
        "outputId": "457d85ca-a1d8-432c-c626-ba985e79e64d"
      },
      "outputs": [
        {
          "name": "stdout",
          "output_type": "stream",
          "text": [
            "11\n",
            "i\n",
            "j\n",
            "a\n",
            "M\n",
            " \n",
            "m\n",
            "a\n",
            "r\n",
            "k\n",
            "i\n",
            "B\n",
            "\n"
          ]
        }
      ],
      "source": [
        "n = 'Bikram Maji'\n",
        "n = n[-1::-1]\n",
        "m = len(n)\n",
        "print(m)\n",
        "for i in range(m):\n",
        "  print(n[i])\n",
        "print()"
      ]
    },
    {
      "cell_type": "code",
      "execution_count": null,
      "metadata": {
        "colab": {
          "base_uri": "https://localhost:8080/"
        },
        "id": "sLd1ch2EEXq2",
        "outputId": "f1a65aa8-5a5b-4f5d-c672-0cfc3cb8c0bb"
      },
      "outputs": [
        {
          "name": "stdout",
          "output_type": "stream",
          "text": [
            "BIKRAM MAJI\n"
          ]
        }
      ],
      "source": [
        "n = 'Bikram Maji'\n",
        "m = n.upper()\n",
        "print(m)\n"
      ]
    },
    {
      "cell_type": "code",
      "execution_count": null,
      "metadata": {
        "id": "CX6wcRg3EkRK",
        "colab": {
          "base_uri": "https://localhost:8080/"
        },
        "outputId": "003de716-c018-4bc9-9377-43dfa9cf75d2"
      },
      "outputs": [
        {
          "output_type": "stream",
          "name": "stdout",
          "text": [
            "1\n"
          ]
        }
      ],
      "source": [
        "#find a string position\n",
        "n = 'Bikram Maji'\n",
        "x = n.find('i',0)\n",
        "if x <=0:\n",
        "  print(\"Text is Invalide\")\n",
        "else:\n",
        "  print(x)\n",
        "#print(n.find('i',2))"
      ]
    },
    {
      "cell_type": "code",
      "execution_count": null,
      "metadata": {
        "colab": {
          "base_uri": "https://localhost:8080/"
        },
        "id": "2uRiZyQlXTP6",
        "outputId": "5747a579-8fa4-4674-eaee-e6c0d40f452d"
      },
      "outputs": [
        {
          "name": "stdout",
          "output_type": "stream",
          "text": [
            "Enter a number5\n",
            "120\n"
          ]
        }
      ],
      "source": [
        "#factriol number\n",
        "a = int(input(\"Enter a number\"))\n",
        "for i in range(1,a,1):\n",
        "  a = a*i\n",
        "print(a)"
      ]
    },
    {
      "cell_type": "code",
      "execution_count": null,
      "metadata": {
        "colab": {
          "base_uri": "https://localhost:8080/"
        },
        "id": "FFYXitnb_R1N",
        "outputId": "1a93267c-f0d8-433c-d79e-533393ed6793"
      },
      "outputs": [
        {
          "name": "stdout",
          "output_type": "stream",
          "text": [
            "enter a no6\n",
            "number is even <class 'int'>\n"
          ]
        }
      ],
      "source": [
        "#number is even or odd\n",
        "a = int(input(\"enter a no\"))\n",
        "if a % 2 == 0:\n",
        "  print(\"number is even\",type(a))\n",
        "else:\n",
        "  print(\"number is odd\")"
      ]
    },
    {
      "cell_type": "code",
      "execution_count": null,
      "metadata": {
        "colab": {
          "base_uri": "https://localhost:8080/"
        },
        "id": "fjfDDjx2GKzL",
        "outputId": "9b7e7de2-5b8a-4892-cff1-8bc9ae8a66e9"
      },
      "outputs": [
        {
          "name": "stdout",
          "output_type": "stream",
          "text": [
            "1\n",
            "4\n",
            "9\n",
            "16\n",
            "25\n",
            "36\n"
          ]
        }
      ],
      "source": [
        "l=[1,2,3,4,5,6]\n",
        "for i in l:\n",
        "  s = i*i\n",
        "  print(s)\n"
      ]
    },
    {
      "cell_type": "code",
      "execution_count": null,
      "metadata": {
        "colab": {
          "base_uri": "https://localhost:8080/"
        },
        "id": "qx600brQR0lR",
        "outputId": "cff64eba-34cd-4c4a-f0ec-782279bbd8a4"
      },
      "outputs": [
        {
          "name": "stdout",
          "output_type": "stream",
          "text": [
            "enter no11\n",
            "enter no22\n",
            "enter no33\n",
            "enter no44\n",
            "1 2 3 4\n"
          ]
        }
      ],
      "source": [
        "a = int(input(\"enter no1\"))\n",
        "b = int(input(\"enter no2\"))\n",
        "c = int(input(\"enter no3\"))\n",
        "d = int(input(\"enter no4\"))\n",
        "if  g\n",
        "  print()"
      ]
    },
    {
      "cell_type": "code",
      "execution_count": null,
      "metadata": {
        "colab": {
          "base_uri": "https://localhost:8080/"
        },
        "id": "7dqdmM2jYgK9",
        "outputId": "a06ec946-821c-4104-8efd-e1df3e5910d7"
      },
      "outputs": [
        {
          "name": "stdout",
          "output_type": "stream",
          "text": [
            "enter no12\n"
          ]
        }
      ],
      "source": [
        "# max number\n",
        "a = int(input(\"enter no1\"))\n",
        "b = int(input(\"enter no2\"))\n",
        "c = int(input(\"enter no3\"))\n",
        "if  a>b and a>c:\n",
        "  print(a)\n",
        "elif b>c:\n",
        "  print(b)\n",
        "else:\n",
        "  print(c)"
      ]
    },
    {
      "cell_type": "code",
      "execution_count": null,
      "metadata": {
        "colab": {
          "base_uri": "https://localhost:8080/"
        },
        "id": "Cb7dvz4LsihD",
        "outputId": "2d11c842-be56-4bf5-cadb-04590cff54a4"
      },
      "outputs": [
        {
          "output_type": "stream",
          "name": "stdout",
          "text": [
            "enter your no2024\n",
            "this year ia a leap year\n"
          ]
        }
      ],
      "source": [
        "#leep year or it\n",
        "a=int(input(\"enter your no\"))\n",
        "if  (a % 400 == 0) or (a % 100 !=0) and (a % 4 == 0) :\n",
        "  print(\"this year ia a leap year\")\n",
        "else:\n",
        "  print(\"not leep year\")"
      ]
    },
    {
      "cell_type": "code",
      "execution_count": null,
      "metadata": {
        "colab": {
          "base_uri": "https://localhost:8080/"
        },
        "id": "QYn6RkK-X7Oy",
        "outputId": "855cd258-0b69-468e-bcf4-34a5a8bbc73e"
      },
      "outputs": [
        {
          "output_type": "stream",
          "name": "stdout",
          "text": [
            "enter number3434\n",
            "14\n"
          ]
        }
      ],
      "source": [
        "# some numbers are addition\n",
        "num = input(\"enter number\")\n",
        "sum = 0\n",
        "for i in num:\n",
        "  sum = sum + int(i)\n",
        "print(sum)\n",
        "\n"
      ]
    },
    {
      "cell_type": "code",
      "execution_count": null,
      "metadata": {
        "colab": {
          "base_uri": "https://localhost:8080/"
        },
        "id": "JBQB6bcKnyGq",
        "outputId": "ca4f9f39-b64d-4547-d11f-121fe46f0190"
      },
      "outputs": [
        {
          "name": "stdout",
          "output_type": "stream",
          "text": [
            "I am bikram, and i was 26\n"
          ]
        }
      ],
      "source": [
        "a=26\n",
        "b='I am bikram, and i was {}'\n",
        "print(b.format(a))"
      ]
    },
    {
      "cell_type": "code",
      "source": [
        "#any number divided by 7\n",
        "a = int(input(\"enter number\"))\n",
        "if a % 7 == 0:\n",
        "  print(\"number is divided is 7: \")\n",
        "else:\n",
        "  print(\"not divided in 7: \")"
      ],
      "metadata": {
        "colab": {
          "base_uri": "https://localhost:8080/"
        },
        "id": "ElNqZX9m_H9K",
        "outputId": "8a69bf51-e740-44f9-cc60-af67e3e3be7c"
      },
      "execution_count": null,
      "outputs": [
        {
          "output_type": "stream",
          "name": "stdout",
          "text": [
            "enter number49\n",
            "number is divided is 7: \n"
          ]
        }
      ]
    },
    {
      "cell_type": "code",
      "source": [
        "# Electric bill\n",
        "a = int(input(\"enter a number\"))\n",
        "if a <=100:\n",
        "  print(\"No charge\")\n",
        "elif a < 200 and a > 100:\n",
        "  print(\"Rs 5 per units\")\n",
        "else:\n",
        "  print(\"Rs 10 per units\")"
      ],
      "metadata": {
        "colab": {
          "base_uri": "https://localhost:8080/"
        },
        "id": "xZmouLdHA0TS",
        "outputId": "1e86e563-11d5-4ffb-d3b4-1609ee6f9f37"
      },
      "execution_count": null,
      "outputs": [
        {
          "output_type": "stream",
          "name": "stdout",
          "text": [
            "enter a number220\n",
            "Rs 10 per units\n"
          ]
        }
      ]
    },
    {
      "cell_type": "code",
      "execution_count": null,
      "metadata": {
        "colab": {
          "base_uri": "https://localhost:8080/"
        },
        "id": "PITg_IZjt3R-",
        "outputId": "0ccb40b8-8c74-4f34-b04d-06a63a39bb4d"
      },
      "outputs": [
        {
          "output_type": "stream",
          "name": "stdout",
          "text": [
            "54321\n",
            "\n",
            "49856\n",
            "11\n",
            "i\n",
            "j\n",
            "a\n",
            "M\n",
            " \n",
            "m\n",
            "a\n",
            "r\n",
            "k\n",
            "i\n",
            "B\n",
            "\n",
            "ijaM markiB\n"
          ]
        }
      ],
      "source": [
        "#revers number\n",
        "a = \"12345\"\n",
        "n = a[-1::-1]\n",
        "print(n)\n",
        "\n",
        "print(\"\")\n",
        "\n",
        "a = 65894\n",
        "n = str(a)[::-1]\n",
        "print(n)\n",
        "\n",
        "n = 'Bikram Maji'\n",
        "m = len(n)\n",
        "print(m)\n",
        "for i in range (m-1,-1,-1):\n",
        "  print(n[i])\n",
        "\n",
        "print(\"\")\n",
        "\n",
        "n = 'Bikram Maji'\n",
        "b = n[-1::-1]\n",
        "print(b)"
      ]
    },
    {
      "cell_type": "code",
      "source": [
        "#List print and reverse\n",
        "a = [1,2,3,4,5]\n",
        "b = len(a)\n",
        "for i in range(b-1,-1,-1):\n",
        "  print(a[i])\n",
        "\n",
        "print(\"\")\n",
        "\n",
        "a = [1,2,3,4,5]\n",
        "b = len(a)\n",
        "for i in range(b):\n",
        "  print(a[i])\n",
        "\n",
        "print(\"\")\n",
        "\n",
        "a = [1,2,3,4,5]\n",
        "b = a[-1::-1]\n",
        "print(b)\n",
        "\n",
        "print(\"\")\n",
        "\n",
        "a = [1,2,3,4,5]\n",
        "for i in a:\n",
        "  print(i)"
      ],
      "metadata": {
        "colab": {
          "base_uri": "https://localhost:8080/"
        },
        "id": "UYAlwRZ4CdBV",
        "outputId": "973d4085-4ead-4cdb-a189-d41332652194"
      },
      "execution_count": null,
      "outputs": [
        {
          "output_type": "stream",
          "name": "stdout",
          "text": [
            "5\n",
            "4\n",
            "3\n",
            "2\n",
            "1\n",
            "\n",
            "1\n",
            "2\n",
            "3\n",
            "4\n",
            "5\n",
            "\n",
            "[5, 4, 3, 2, 1]\n",
            "\n",
            "1\n",
            "2\n",
            "3\n",
            "4\n",
            "5\n"
          ]
        }
      ]
    },
    {
      "cell_type": "code",
      "source": [
        "a = int(input(\"Enter a number\"))\n",
        "for i in range(1,a,1):\n",
        "  a = a+i\n",
        "print(a)"
      ],
      "metadata": {
        "colab": {
          "base_uri": "https://localhost:8080/"
        },
        "id": "ghLhuJ1A18NX",
        "outputId": "7854137a-c615-4cbc-d129-4fc31a9c5844"
      },
      "execution_count": null,
      "outputs": [
        {
          "output_type": "stream",
          "name": "stdout",
          "text": [
            "Enter a number5\n",
            "15\n"
          ]
        }
      ]
    },
    {
      "cell_type": "code",
      "source": [
        "#list\n",
        "l = []\n",
        "for i in range(1,101):\n",
        "  l.append(i)\n",
        "print(l)\n",
        "\n",
        "print(\"\")\n",
        "\n",
        "l = [i for i in range(1,101)]\n",
        "print(l)\n",
        "\n",
        "print(\"\")\n",
        "\n",
        "l = [i for i in range(1,101) if i % 2 == 0]\n",
        "print(l)\n",
        "\n",
        "print(\"\")\n",
        "\n",
        "a = \"Bikram\"\n",
        "l = [i for i in a]\n",
        "print(l)\n",
        "\n",
        "a = [\"bikram\",\"maji\"]\n",
        "a[1] = \"M\"\n",
        "print(a)"
      ],
      "metadata": {
        "colab": {
          "base_uri": "https://localhost:8080/"
        },
        "id": "WRwsQG2KFzGA",
        "outputId": "3e9fe733-ce4d-4870-da65-c9d43226fd35"
      },
      "execution_count": null,
      "outputs": [
        {
          "output_type": "stream",
          "name": "stdout",
          "text": [
            "[1, 2, 3, 4, 5, 6, 7, 8, 9, 10, 11, 12, 13, 14, 15, 16, 17, 18, 19, 20, 21, 22, 23, 24, 25, 26, 27, 28, 29, 30, 31, 32, 33, 34, 35, 36, 37, 38, 39, 40, 41, 42, 43, 44, 45, 46, 47, 48, 49, 50, 51, 52, 53, 54, 55, 56, 57, 58, 59, 60, 61, 62, 63, 64, 65, 66, 67, 68, 69, 70, 71, 72, 73, 74, 75, 76, 77, 78, 79, 80, 81, 82, 83, 84, 85, 86, 87, 88, 89, 90, 91, 92, 93, 94, 95, 96, 97, 98, 99, 100]\n",
            "\n",
            "[1, 2, 3, 4, 5, 6, 7, 8, 9, 10, 11, 12, 13, 14, 15, 16, 17, 18, 19, 20, 21, 22, 23, 24, 25, 26, 27, 28, 29, 30, 31, 32, 33, 34, 35, 36, 37, 38, 39, 40, 41, 42, 43, 44, 45, 46, 47, 48, 49, 50, 51, 52, 53, 54, 55, 56, 57, 58, 59, 60, 61, 62, 63, 64, 65, 66, 67, 68, 69, 70, 71, 72, 73, 74, 75, 76, 77, 78, 79, 80, 81, 82, 83, 84, 85, 86, 87, 88, 89, 90, 91, 92, 93, 94, 95, 96, 97, 98, 99, 100]\n",
            "\n",
            "[2, 4, 6, 8, 10, 12, 14, 16, 18, 20, 22, 24, 26, 28, 30, 32, 34, 36, 38, 40, 42, 44, 46, 48, 50, 52, 54, 56, 58, 60, 62, 64, 66, 68, 70, 72, 74, 76, 78, 80, 82, 84, 86, 88, 90, 92, 94, 96, 98, 100]\n",
            "\n",
            "['B', 'i', 'k', 'r', 'a', 'm']\n",
            "['bikram', 'M']\n"
          ]
        }
      ]
    },
    {
      "cell_type": "code",
      "source": [
        "l = [10,20,30,40,50]\n",
        "b = l.pop(1)\n",
        "print(b)\n",
        "print(l)\n",
        "\n",
        "print(\"\")\n",
        "\n",
        "l = [10,20,30,40,50]\n",
        "l.remove(50)\n",
        "print(l)\n",
        "\n",
        "print(\"\")\n",
        "\n",
        "l = [10,20,30,40,50]\n",
        "l[1] = 90\n",
        "print(l)\n",
        "\n",
        "print(\"\")\n",
        "\n",
        "l = [10,20,30,40,50]\n",
        "l.insert(1,15)\n",
        "print(l)\n",
        "\n",
        "print(\"\")\n",
        "\n",
        "l = [10,20,30,40,50]\n",
        "l.append(15)\n",
        "print(l)"
      ],
      "metadata": {
        "id": "Pr73f1L0IFc-",
        "colab": {
          "base_uri": "https://localhost:8080/"
        },
        "outputId": "dde49c04-b12a-460f-b5a8-cbef89e6d63a"
      },
      "execution_count": null,
      "outputs": [
        {
          "output_type": "stream",
          "name": "stdout",
          "text": [
            "20\n",
            "[10, 30, 40, 50]\n",
            "\n",
            "[10, 20, 30, 40]\n",
            "\n",
            "[10, 90, 30, 40, 50]\n",
            "\n",
            "[10, 15, 20, 30, 40, 50]\n",
            "\n",
            "[10, 20, 30, 40, 50, 15]\n"
          ]
        }
      ]
    },
    {
      "cell_type": "code",
      "source": [
        "l = [\"bikram\", \"biplab\", \"bandana\", \"nirmal\"]\n",
        "l.insert(2,\"bakul\")\n",
        "print(l)\n",
        "\n",
        "print(\"\")\n",
        "\n",
        "l = [\"bikram\", \"biplab\", \"bandana\", \"nirmal\"]\n",
        "l.append(\"bakul\")\n",
        "print(l)\n",
        "\n",
        "print(\"\")\n",
        "\n",
        "l = [\"bikram\", \"biplab\", \"bandana\", \"nirmal\"]\n",
        "n = [\"debi\", \"bitika\"]\n",
        "l.append(n)\n",
        "print(l)\n",
        "\n",
        "print(\"\")\n",
        "\n",
        "l = [\"bikram\", \"biplab\", \"bandana\", \"nirmal\"]\n",
        "n = [\"debi\", \"bitika\"]\n",
        "l.extend(n)\n",
        "print(l)\n",
        "\n",
        "print(\"\")\n",
        "\n",
        "l = [\"bikram\", \"biplab\", \"bandana\", \"nirmal\"]\n",
        "n = (\"debi\", \"bitika\")\n",
        "l.extend(n)\n",
        "print(l)\n"
      ],
      "metadata": {
        "colab": {
          "base_uri": "https://localhost:8080/"
        },
        "id": "6o0Hqr3eU1eS",
        "outputId": "2cd2bab6-f5c8-46e5-c535-bce9d6842b97"
      },
      "execution_count": null,
      "outputs": [
        {
          "output_type": "stream",
          "name": "stdout",
          "text": [
            "['bikram', 'biplab', 'bakul', 'bandana', 'nirmal']\n",
            "\n",
            "['bikram', 'biplab', 'bandana', 'nirmal', 'bakul']\n",
            "\n",
            "['bikram', 'biplab', 'bandana', 'nirmal', ['debi', 'bitika']]\n",
            "\n",
            "['bikram', 'biplab', 'bandana', 'nirmal', 'debi', 'bitika']\n",
            "\n",
            "['bikram', 'biplab', 'bandana', 'nirmal', 'debi', 'bitika']\n"
          ]
        }
      ]
    },
    {
      "cell_type": "code",
      "source": [
        "#count,max,min,sort,reverse in list:\n",
        "l = [12,2,34,8,6,8]\n",
        "print(l[1])\n",
        "\n",
        "c = l.count(23)\n",
        "print(c)\n",
        "\n",
        "c = max(l)\n",
        "print(c)\n",
        "\n",
        "c = min(l)\n",
        "print(c)\n",
        "\n",
        "l.sort()\n",
        "print(l)\n",
        "\n",
        "l.reverse()\n",
        "print(l)\n",
        "\n",
        "c = set(l)\n",
        "print(c)"
      ],
      "metadata": {
        "colab": {
          "base_uri": "https://localhost:8080/"
        },
        "id": "3ZwYy7Crllny",
        "outputId": "ee5738ba-2e3b-43cb-c102-6e15af5edaaa"
      },
      "execution_count": null,
      "outputs": [
        {
          "output_type": "stream",
          "name": "stdout",
          "text": [
            "{2, 34, 6, 8, 12}\n"
          ]
        }
      ]
    },
    {
      "cell_type": "code",
      "source": [
        "#list iteration\n",
        "l = [10,20,30,40]\n",
        "l2 = [5,3,67,74]\n",
        "\n",
        "t = len(l)\n",
        "for i in range(t):\n",
        "  print(l[i],l2[i])\n",
        "\n",
        "print(\"\")\n",
        "\n",
        "for i,j in zip(l,l2):\n",
        "  print(i,j)"
      ],
      "metadata": {
        "colab": {
          "base_uri": "https://localhost:8080/"
        },
        "id": "TlLr-wSrVj3h",
        "outputId": "92613f87-c69d-4435-b9ca-98e7fc7481de"
      },
      "execution_count": null,
      "outputs": [
        {
          "output_type": "stream",
          "name": "stdout",
          "text": [
            "10 5\n",
            "20 3\n",
            "30 67\n",
            "40 74\n",
            "\n",
            "10 5\n",
            "20 3\n",
            "30 67\n",
            "40 74\n"
          ]
        }
      ]
    },
    {
      "cell_type": "code",
      "source": [
        "n = input(\"Enter the value\")\n",
        "print(n)\n",
        "m = n.split()\n",
        "print(m)\n",
        "\n",
        "l = []\n",
        "for i in range(1,4):\n",
        "  n = input(\"Enter the value\"+str(i)+\":-\")\n",
        "  l.append(n)\n",
        "print(l)"
      ],
      "metadata": {
        "colab": {
          "base_uri": "https://localhost:8080/"
        },
        "id": "1f7MYKcsW6aC",
        "outputId": "5d892bbd-4a31-409a-d823-858357477f5c"
      },
      "execution_count": null,
      "outputs": [
        {
          "output_type": "stream",
          "name": "stdout",
          "text": [
            "Enter the valueBikram maji\n",
            "Bikram maji\n",
            "['Bikram', 'maji']\n"
          ]
        }
      ]
    },
    {
      "cell_type": "code",
      "source": [
        "n = int(input(\"Enter your number\"))\n",
        "for i in range(0,n):\n",
        "  for j in range(0,i+1):\n",
        "    print(\"*\",end=\" \")\n",
        "  print(\"\\r\")\n",
        "\n",
        "# n = int(input(\"Enter your number\"))\n",
        "# for i in range(n-1,-1,-1):\n",
        "#   for j in range(0,i+1):\n",
        "#     print(\"*\",end=\" \")\n",
        "#   print()"
      ],
      "metadata": {
        "colab": {
          "base_uri": "https://localhost:8080/"
        },
        "id": "iEEndvb5Kk4k",
        "outputId": "59c90446-9a09-46fb-d51f-7b7e88d71ca4"
      },
      "execution_count": null,
      "outputs": [
        {
          "output_type": "stream",
          "name": "stdout",
          "text": [
            "Enter your number5\n",
            "* \n",
            "* * \n",
            "* * * \n",
            "* * * * \n",
            "* * * * * \n"
          ]
        }
      ]
    },
    {
      "cell_type": "code",
      "source": [
        "#stack\n",
        "l=[]\n",
        "while True:\n",
        "  c= int(input('''\n",
        "  1 Push Elements\n",
        "  2 Pop Elements\n",
        "  3 Peek Elements\n",
        "  4 Display Elements\n",
        "  5 Exit\n",
        "  '''))\n",
        "  if c==1:\n",
        "    n=int(input(\"Enter a number\"))\n",
        "    l.append(n)\n",
        "    print(l)\n",
        "  elif c==2:\n",
        "    if len(l)==0:\n",
        "      print(\"Stack Empty\")\n",
        "    else:\n",
        "      b=l.pop()\n",
        "      print(b)\n",
        "      print(l)\n",
        "  elif c==3:\n",
        "    if len(l)==0:\n",
        "      print(\"Stack Empty\")\n",
        "    else:\n",
        "      print(\"Stack last value\",l[-1])\n",
        "  elif c==4:\n",
        "    if len(l):\n",
        "      print(\"Display Stack\",l)\n",
        "  elif c==5:\n",
        "    break;\n",
        "  else:\n",
        "    print(\"Invellid opp....\")\n"
      ],
      "metadata": {
        "colab": {
          "base_uri": "https://localhost:8080/"
        },
        "id": "hMkcRehRoKE2",
        "outputId": "9101e736-e656-42bd-9f60-6470390b47b1"
      },
      "execution_count": null,
      "outputs": [
        {
          "name": "stdout",
          "output_type": "stream",
          "text": [
            " \n",
            "  1 Push Elements\n",
            "  2 Pop Elements\n",
            "  3 Peek Elements\n",
            "  4 Display Elements\n",
            "  5 Exit\n",
            "  7\n",
            "Invellid opp....\n",
            " \n",
            "  1 Push Elements\n",
            "  2 Pop Elements\n",
            "  3 Peek Elements\n",
            "  4 Display Elements\n",
            "  5 Exit\n",
            "  1\n",
            "Enter a number10\n",
            "[10]\n",
            " \n",
            "  1 Push Elements\n",
            "  2 Pop Elements\n",
            "  3 Peek Elements\n",
            "  4 Display Elements\n",
            "  5 Exit\n",
            "  1\n",
            "Enter a number20\n",
            "[10, 20]\n",
            " \n",
            "  1 Push Elements\n",
            "  2 Pop Elements\n",
            "  3 Peek Elements\n",
            "  4 Display Elements\n",
            "  5 Exit\n",
            "  1\n",
            "Enter a number30\n",
            "[10, 20, 30]\n",
            " \n",
            "  1 Push Elements\n",
            "  2 Pop Elements\n",
            "  3 Peek Elements\n",
            "  4 Display Elements\n",
            "  5 Exit\n",
            "  2\n",
            "30\n",
            "[10, 20]\n",
            " \n",
            "  1 Push Elements\n",
            "  2 Pop Elements\n",
            "  3 Peek Elements\n",
            "  4 Display Elements\n",
            "  5 Exit\n",
            "  2\n",
            "20\n",
            "[10]\n",
            " \n",
            "  1 Push Elements\n",
            "  2 Pop Elements\n",
            "  3 Peek Elements\n",
            "  4 Display Elements\n",
            "  5 Exit\n",
            "  1\n",
            "Enter a number20\n",
            "[10, 20]\n",
            " \n",
            "  1 Push Elements\n",
            "  2 Pop Elements\n",
            "  3 Peek Elements\n",
            "  4 Display Elements\n",
            "  5 Exit\n",
            "  1\n",
            "Enter a number20\n",
            "[10, 20, 20]\n",
            " \n",
            "  1 Push Elements\n",
            "  2 Pop Elements\n",
            "  3 Peek Elements\n",
            "  4 Display Elements\n",
            "  5 Exit\n",
            "  2\n",
            "20\n",
            "[10, 20]\n",
            " \n",
            "  1 Push Elements\n",
            "  2 Pop Elements\n",
            "  3 Peek Elements\n",
            "  4 Display Elements\n",
            "  5 Exit\n",
            "  1\n",
            "Enter a number30\n",
            "[10, 20, 30]\n",
            " \n",
            "  1 Push Elements\n",
            "  2 Pop Elements\n",
            "  3 Peek Elements\n",
            "  4 Display Elements\n",
            "  5 Exit\n",
            "  1\n",
            "Enter a number40\n",
            "[10, 20, 30, 40]\n",
            " \n",
            "  1 Push Elements\n",
            "  2 Pop Elements\n",
            "  3 Peek Elements\n",
            "  4 Display Elements\n",
            "  5 Exit\n",
            "  3\n",
            "Stack last value 40\n",
            " \n",
            "  1 Push Elements\n",
            "  2 Pop Elements\n",
            "  3 Peek Elements\n",
            "  4 Display Elements\n",
            "  5 Exit\n",
            "  4\n",
            "Display Stack [10, 20, 30, 40]\n",
            " \n",
            "  1 Push Elements\n",
            "  2 Pop Elements\n",
            "  3 Peek Elements\n",
            "  4 Display Elements\n",
            "  5 Exit\n",
            "  5\n"
          ]
        }
      ]
    },
    {
      "cell_type": "code",
      "source": [
        "#Queue\n",
        "l=[]\n",
        "while True:\n",
        "  c= int(input('''\n",
        "  1 Push Elements\n",
        "  2 Pop First Elements\n",
        "  3 Font Elements\n",
        "  4 Last Elements\n",
        "  5 Display Queue\n",
        "  6 Exit\n",
        "  '''))\n",
        "  if c==1:\n",
        "    n=int(input(\"Enter a number\"))\n",
        "    l.append(n)\n",
        "    print(l)\n",
        "  elif c==2:\n",
        "    if len(l)==0:\n",
        "      print(\"Empty Queue\")\n",
        "    else:\n",
        "      del l[0]\n",
        "      print(b)\n",
        "      print(l)\n",
        "  elif c==3:\n",
        "    if len(l)==0:\n",
        "      print(\"Empty Queue\")\n",
        "    else:\n",
        "      print(\"First Queue Value\",l[0])\n",
        "  elif c==4:\n",
        "    if len(l):\n",
        "      print(\"Last Queue Value\",l[-1])\n",
        "  elif c==5:\n",
        "    print(\"Display Queue\",l)\n",
        "  elif c==6:\n",
        "    break;\n",
        "  else:\n",
        "    print(\"Invellid opp....\")\n"
      ],
      "metadata": {
        "colab": {
          "base_uri": "https://localhost:8080/"
        },
        "id": "ZaXiC3GO1qNT",
        "outputId": "06c07a65-2dba-4296-e403-d0b93e836a9b"
      },
      "execution_count": null,
      "outputs": [
        {
          "name": "stdout",
          "output_type": "stream",
          "text": [
            " \n",
            "  1 Push Elements\n",
            "  2 Pop First Elements\n",
            "  3 Font Elements\n",
            "  4 Last Elements\n",
            "  5 Display Queue\n",
            "  6 Exit\n",
            "  1\n",
            "Enter a number10\n",
            "[10]\n",
            " \n",
            "  1 Push Elements\n",
            "  2 Pop First Elements\n",
            "  3 Font Elements\n",
            "  4 Last Elements\n",
            "  5 Display Queue\n",
            "  6 Exit\n",
            "  1\n",
            "Enter a number20\n",
            "[10, 20]\n",
            " \n",
            "  1 Push Elements\n",
            "  2 Pop First Elements\n",
            "  3 Font Elements\n",
            "  4 Last Elements\n",
            "  5 Display Queue\n",
            "  6 Exit\n",
            "  1\n",
            "Enter a number30\n",
            "[10, 20, 30]\n",
            " \n",
            "  1 Push Elements\n",
            "  2 Pop First Elements\n",
            "  3 Font Elements\n",
            "  4 Last Elements\n",
            "  5 Display Queue\n",
            "  6 Exit\n",
            "  2\n",
            "20\n",
            "[20, 30]\n",
            " \n",
            "  1 Push Elements\n",
            "  2 Pop First Elements\n",
            "  3 Font Elements\n",
            "  4 Last Elements\n",
            "  5 Display Queue\n",
            "  6 Exit\n",
            "  1\n",
            "Enter a number40\n",
            "[20, 30, 40]\n",
            " \n",
            "  1 Push Elements\n",
            "  2 Pop First Elements\n",
            "  3 Font Elements\n",
            "  4 Last Elements\n",
            "  5 Display Queue\n",
            "  6 Exit\n",
            "  3\n",
            "First Queue Value 20\n",
            " \n",
            "  1 Push Elements\n",
            "  2 Pop First Elements\n",
            "  3 Font Elements\n",
            "  4 Last Elements\n",
            "  5 Display Queue\n",
            "  6 Exit\n",
            "  4\n",
            "Last Queue Value 40\n",
            " \n",
            "  1 Push Elements\n",
            "  2 Pop First Elements\n",
            "  3 Font Elements\n",
            "  4 Last Elements\n",
            "  5 Display Queue\n",
            "  6 Exit\n",
            "  5\n",
            "Display Queue [20, 30, 40]\n",
            " \n",
            "  1 Push Elements\n",
            "  2 Pop First Elements\n",
            "  3 Font Elements\n",
            "  4 Last Elements\n",
            "  5 Display Queue\n",
            "  6 Exit\n",
            "  6\n"
          ]
        }
      ]
    },
    {
      "cell_type": "code",
      "source": [
        "#Dictionary\n",
        "d={'name':'Bikram Maji','Dept':'MCA','Age':25}\n",
        "for i in d:\n",
        "  print(i)\n",
        "  print(d[i])\n",
        "\n",
        "print(\"\")\n",
        "\n",
        "d={'name':'Bikram Maji','Dept':'MCA','Age':25}\n",
        "b=d['name']\n",
        "print(b)\n",
        "\n",
        "print(\"\")\n",
        "\n",
        "d={'name':'Bikram Maji','Dept':'MCA','Age':25}\n",
        "b=d.get('name')\n",
        "print(b)\n",
        "\n",
        "print(\"\")\n",
        "\n",
        "d={'name':'Bikram Maji','Dept':'MCA','Age':25}\n",
        "for i in d.keys():\n",
        "  print(i)\n",
        "\n",
        "print(\"\")\n",
        "\n",
        "d={'name':'Bikram Maji','Dept':'MCA','Age':25}\n",
        "for i in d.values():\n",
        "  print(i)\n",
        "\n",
        "print(\"\")\n",
        "\n",
        "d={'name':'Bikram Maji','Dept':'MCA','Age':25}\n",
        "for i,j in d.items():\n",
        "  print(i,j)\n",
        "\n",
        "print(\"\")\n",
        "\n",
        "d={'name':'Bikram Maji','Dept':'MCA','Age':25}\n",
        "d.update({'Age':26})\n",
        "print(d)\n",
        "\n",
        "print(\"\")\n",
        "\n",
        "d={'name':'Bikram Maji','Dept':'MCA','Age':25}\n",
        "d['name'] = 'Biplab'\n",
        "print(d)\n"
      ],
      "metadata": {
        "colab": {
          "base_uri": "https://localhost:8080/"
        },
        "id": "yqurEtHN_Cli",
        "outputId": "b06c1847-2f07-4b1c-ff26-e359ca2db409"
      },
      "execution_count": null,
      "outputs": [
        {
          "output_type": "stream",
          "name": "stdout",
          "text": [
            "name\n",
            "Bikram Maji\n",
            "Dept\n",
            "MCA\n",
            "Age\n",
            "25\n",
            "\n",
            "Bikram Maji\n",
            "\n",
            "Bikram Maji\n",
            "\n",
            "name\n",
            "Dept\n",
            "Age\n",
            "\n",
            "Bikram Maji\n",
            "MCA\n",
            "25\n",
            "\n",
            "name Bikram Maji\n",
            "Dept MCA\n",
            "Age 25\n",
            "\n",
            "{'name': 'Bikram Maji', 'Dept': 'MCA', 'Age': 26}\n",
            "\n",
            "{'name': 'Biplab', 'Dept': 'MCA', 'Age': 25}\n"
          ]
        }
      ]
    },
    {
      "cell_type": "code",
      "source": [
        "#Tuple\n",
        "t=(10,20,30,40,50)\n",
        "for i in t:\n",
        "  print(i)\n",
        "\n",
        "print(\"\")\n",
        "\n",
        "t=(10,20,30,40,50)\n",
        "m=len(t)\n",
        "for i in range(m):\n",
        "  print(t[i])\n",
        "\n",
        "print(\"\")\n",
        "\n",
        "t=(10,20,30,40,50)\n",
        "l=max(t)\n",
        "print(l)\n",
        "\n",
        "print(\"\")\n",
        "\n",
        "t=(10,20,30,40,50)\n",
        "l=min(t)\n",
        "print(l)\n",
        "\n",
        "print(\"\")\n",
        "\n",
        "t=(10,20,30,40,50)\n",
        "l=t.count(10)\n",
        "print(l)\n",
        "\n",
        "print(\"\")\n",
        "\n",
        "t=(10,20,30,40,50)\n",
        "l=t.index(40)\n",
        "print(l)\n",
        "\n",
        "print(\"\")\n",
        "\n",
        "t=(10,20,30,40,50)\n",
        "l=sum(t)\n",
        "print(l)"
      ],
      "metadata": {
        "colab": {
          "base_uri": "https://localhost:8080/"
        },
        "id": "cJHDO9tCHIgc",
        "outputId": "5c27f068-63f7-40da-a768-8083928223ac"
      },
      "execution_count": null,
      "outputs": [
        {
          "output_type": "stream",
          "name": "stdout",
          "text": [
            "10\n",
            "20\n",
            "30\n",
            "40\n",
            "50\n",
            "\n",
            "10\n",
            "20\n",
            "30\n",
            "40\n",
            "50\n",
            "\n",
            "50\n",
            "\n",
            "10\n",
            "\n",
            "1\n",
            "\n",
            "3\n",
            "\n",
            "150\n"
          ]
        }
      ]
    },
    {
      "cell_type": "code",
      "source": [
        "#set\n",
        "s={10,20,30}\n",
        "l=[30,40,50]\n",
        "s.update(l)\n",
        "print(s)"
      ],
      "metadata": {
        "colab": {
          "base_uri": "https://localhost:8080/"
        },
        "id": "8A3DMdce4zen",
        "outputId": "4c6d4534-b7d7-4ee2-e028-1ee96a4a28e8"
      },
      "execution_count": null,
      "outputs": [
        {
          "output_type": "stream",
          "name": "stdout",
          "text": [
            "{40, 10, 50, 20, 30}\n"
          ]
        }
      ]
    }
  ],
  "metadata": {
    "colab": {
      "provenance": [],
      "authorship_tag": "ABX9TyOcOExRtELG2b7DWao7iUnZ",
      "include_colab_link": true
    },
    "kernelspec": {
      "display_name": "Python 3",
      "name": "python3"
    },
    "language_info": {
      "name": "python"
    }
  },
  "nbformat": 4,
  "nbformat_minor": 0
}